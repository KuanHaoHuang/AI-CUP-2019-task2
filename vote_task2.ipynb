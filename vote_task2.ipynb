{
 "cells": [
  {
   "cell_type": "code",
   "execution_count": 1,
   "metadata": {},
   "outputs": [],
   "source": [
    "import torch\n",
    "import numpy as np\n",
    "import pickle\n",
    "\n",
    "def vote(results):\n",
    "    # results: [41, 40000, 4]\n",
    "    print(\"voting...\")\n",
    "    thd = len(results)//2\n",
    "    ret = torch.FloatTensor(results)\n",
    "    print(ret.size())\n",
    "    ret = (torch.sum(ret, 0) > thd).long().tolist()\n",
    "    return ret"
   ]
  },
  {
   "cell_type": "code",
   "execution_count": 2,
   "metadata": {
    "scrolled": true
   },
   "outputs": [
    {
     "name": "stdout",
     "output_type": "stream",
     "text": [
      "total number of csv file: 41\n",
      "remain number of csv file: 41\n",
      "getting ids...\n",
      "getting results...\n"
     ]
    },
    {
     "data": {
      "application/vnd.jupyter.widget-view+json": {
       "model_id": "4e1964cb40f2495d9948df97d85d90dd",
       "version_major": 2,
       "version_minor": 0
      },
      "text/plain": [
       "HBox(children=(IntProgress(value=0, max=41), HTML(value='')))"
      ]
     },
     "metadata": {},
     "output_type": "display_data"
    },
    {
     "name": "stdout",
     "output_type": "stream",
     "text": [
      "\n",
      "voting...\n",
      "torch.Size([41, 40000, 4])\n",
      "writing to file...\n"
     ]
    },
    {
     "data": {
      "application/vnd.jupyter.widget-view+json": {
       "model_id": "ea2da515aa4241e38d228d40a2258919",
       "version_major": 2,
       "version_minor": 0
      },
      "text/plain": [
       "HBox(children=(IntProgress(value=0, max=40000), HTML(value='')))"
      ]
     },
     "metadata": {},
     "output_type": "display_data"
    },
    {
     "name": "stdout",
     "output_type": "stream",
     "text": [
      "\n"
     ]
    }
   ],
   "source": [
    "import pickle\n",
    "import csv\n",
    "import sys\n",
    "import os\n",
    "import random\n",
    "import numpy as np\n",
    "import multiprocessing as mp\n",
    "from tqdm.notebook import tqdm\n",
    "\n",
    "results = []\n",
    "files = []\n",
    "keeps = []\n",
    "firsts = []\n",
    "seconds = []\n",
    "col_names = []\n",
    "path = \"results/task2/\"\n",
    "\n",
    "print(\"total number of csv file:\", len(os.listdir(path)))\n",
    "        \n",
    "for file in os.listdir(path):\n",
    "    if file[-4:] == \".csv\":\n",
    "        files.append(file)\n",
    "            \n",
    "print(\"remain number of csv file:\", len(files))\n",
    "ids = []\n",
    "\n",
    "print(\"getting ids...\")\n",
    "with open(path+files[0], newline=\"\") as f:\n",
    "    rows = csv.reader(f)\n",
    "    for i, row in enumerate(rows):\n",
    "        if i == 0:\n",
    "            col_names = row\n",
    "        else:\n",
    "            ids.append(row[0])\n",
    "    \n",
    "print(\"getting results...\")\n",
    "def get_results(file):\n",
    "    result = []\n",
    "    with open(path+file, newline=\"\") as f:\n",
    "        rows = csv.reader(f)\n",
    "        for i, row in enumerate(rows):\n",
    "            if i != 0:\n",
    "                tmp = [int(x) for x in row[1:]]\n",
    "                result.append(tmp)\n",
    "    return result\n",
    "\n",
    "with mp.Pool(processes=mp.cpu_count()) as pool:\n",
    "    results = pool.map(get_results, tqdm(files))\n",
    "    \n",
    "votes = vote(results)\n",
    "\n",
    "print(\"writing to file...\")\n",
    "with open(\"result_vote_{}.csv\".format(len(files)), \"w\", newline=\"\") as f:\n",
    "    w = csv.writer(f)\n",
    "    w.writerow(col_names)\n",
    "    for i in tqdm(range(len(results[0]))):\n",
    "        w.writerow([ids[i]]+votes[i])"
   ]
  }
 ],
 "metadata": {
  "kernelspec": {
   "display_name": "Python 3",
   "language": "python",
   "name": "python3"
  },
  "language_info": {
   "codemirror_mode": {
    "name": "ipython",
    "version": 3
   },
   "file_extension": ".py",
   "mimetype": "text/x-python",
   "name": "python",
   "nbconvert_exporter": "python",
   "pygments_lexer": "ipython3",
   "version": "3.6.6"
  }
 },
 "nbformat": 4,
 "nbformat_minor": 2
}
